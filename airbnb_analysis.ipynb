{
 "cells": [
  {
   "cell_type": "code",
   "execution_count": 9,
   "metadata": {},
   "outputs": [],
   "source": [
    "import pandas as pd\n",
    "pd.set_option('future.no_silent_downcasting', True)"
   ]
  },
  {
   "cell_type": "code",
   "execution_count": 10,
   "metadata": {},
   "outputs": [
    {
     "data": {
      "text/plain": [
       "listing_id                       int64\n",
       "name                            object\n",
       "host_id                          int64\n",
       "host_since                      object\n",
       "host_location                   object\n",
       "host_response_time              object\n",
       "host_response_rate             float64\n",
       "host_acceptance_rate           float64\n",
       "host_is_superhost               object\n",
       "host_total_listings_count      float64\n",
       "host_has_profile_pic            object\n",
       "host_identity_verified          object\n",
       "neighbourhood                   object\n",
       "district                        object\n",
       "city                            object\n",
       "latitude                       float64\n",
       "longitude                      float64\n",
       "property_type                   object\n",
       "room_type                       object\n",
       "accommodates                     int64\n",
       "bedrooms                       float64\n",
       "amenities                       object\n",
       "price                            int64\n",
       "minimum_nights                   int64\n",
       "maximum_nights                   int64\n",
       "review_scores_rating           float64\n",
       "review_scores_accuracy         float64\n",
       "review_scores_cleanliness      float64\n",
       "review_scores_checkin          float64\n",
       "review_scores_communication    float64\n",
       "review_scores_location         float64\n",
       "review_scores_value            float64\n",
       "instant_bookable                object\n",
       "dtype: object"
      ]
     },
     "execution_count": 10,
     "metadata": {},
     "output_type": "execute_result"
    }
   ],
   "source": [
    "listings_df = pd.read_csv(\"data/Listings.csv\", encoding='latin-1', low_memory=False)\n",
    "reviews_df = pd.read_csv(\"data/Reviews.csv\", encoding='latin-1', low_memory=False)\n",
    "\n",
    "listings_df.dtypes"
   ]
  },
  {
   "cell_type": "code",
   "execution_count": 11,
   "metadata": {},
   "outputs": [],
   "source": [
    "# Clean listing data\n",
    "listings_df = listings_df[listings_df['city'] == \"New York\"]\n",
    "\n",
    "listings_df = listings_df.drop_duplicates()\n",
    "\n",
    "listings_df['host_since'] = pd.to_datetime(listings_df['host_since'], errors='coerce')\n",
    "\n",
    "boolean_cols = ['instant_bookable', 'host_is_superhost', 'host_has_profile_pic', 'host_identity_verified']\n",
    "for col in boolean_cols:\n",
    "    listings_df[col] = (listings_df[col].astype(str).str.strip().replace({'t': True, 'f': False}).astype(bool))\n",
    "\n",
    "essential_cols = ['price', 'latitude', 'longitude']\n",
    "listings_df = listings_df.dropna(subset=essential_cols)\n",
    "\n",
    "review_cols = ['review_scores_rating',\n",
    "    'review_scores_accuracy',\n",
    "    'review_scores_cleanliness',\n",
    "    'review_scores_checkin',\n",
    "    'review_scores_communication',\n",
    "    'review_scores_location',\n",
    "    'review_scores_value']\n",
    "\n",
    "listings_df = listings_df.dropna(subset=review_cols)"
   ]
  },
  {
   "cell_type": "code",
   "execution_count": 12,
   "metadata": {},
   "outputs": [],
   "source": [
    "# Clean review data\n",
    "reviews_df = reviews_df.drop_duplicates()\n",
    "\n",
    "reviews_df['date'] = pd.to_datetime(reviews_df['date'], errors='coerce')\n",
    "\n",
    "reviews_df = reviews_df.dropna(subset=['listing_id', 'date'])"
   ]
  }
 ],
 "metadata": {
  "kernelspec": {
   "display_name": "base",
   "language": "python",
   "name": "python3"
  },
  "language_info": {
   "codemirror_mode": {
    "name": "ipython",
    "version": 3
   },
   "file_extension": ".py",
   "mimetype": "text/x-python",
   "name": "python",
   "nbconvert_exporter": "python",
   "pygments_lexer": "ipython3",
   "version": "3.12.4"
  }
 },
 "nbformat": 4,
 "nbformat_minor": 2
}
